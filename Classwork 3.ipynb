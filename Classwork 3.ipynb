{
 "cells": [
  {
   "cell_type": "markdown",
   "metadata": {},
   "source": [
    "# <center> <h1>Assignment 3</h1> </center>\n",
    "<center> <h1>EIN 4933/6935 Python for Data Science Summer 2020</h1> </center>"
   ]
  },
  {
   "cell_type": "markdown",
   "metadata": {},
   "source": [
    "Click the link below and download the file named \"auto_mpg_modified.csv\".<br/>\n",
    "Link: https://sites.google.com/site/yasinunlu/home/research/new1/auto_mpg_modified.csv<br/>\n",
    "You can find more info about the data set <a href=\"https://sites.google.com/site/yasinunlu/home/research/new1/auto_mpg_info.txt\">here</a>. "
   ]
  },
  {
   "cell_type": "markdown",
   "metadata": {},
   "source": [
    "### Questions:\n",
    "1) Read the file and create a dataframe and name it \"df\".<br/>\n",
    "2) Perform the following data preprocessing:<br/>\n",
    "a) Remove uncessary column(s) that cannot be used for training any models. Remove from df. Explain why you choose those column(s).<br/>\n",
    "b) Determine any missing data point in df. Replace those missing data points with an imputated value. <br/>\n",
    "c) Make sure columns labaled as \"multi-valued discrete\" are of integer type while \"continuous\" ones are of float type. You can read the column labels in this <a href=\"https://sites.google.com/site/yasinunlu/home/research/new1/auto_mpg_info.txt\">file</a>. The final dataframe should be named \"df_clean\".<br/>\n",
    "3) Prepare the following dataframes.<br/> \n",
    "a) Create a dataframe called \"response\" including only the column \"mpg\".<br/>\n",
    "b) Create a dataframe called \"features\" with the remaining columns.<br/>\n",
    "c) Prepare a dataframe named \"features_train\": random 80% rows of the dataframe \"features\"<br/>\n",
    "d) Prepare a dataframe named \"features_test\": random 20% rows of the dataframe \"features\"<br/>\n",
    "e) Prepare a dataframe named \"response_train\": random 80% rows of the dataframe \"response\"<br/>\n",
    "f) Prepare a dataframe named \"response_test\": random 20% rows of the dataframe \"response\"<br/>\n",
    "4) Create a multiple linear regressoin model from scikit learn package. Train your model using the train data that you created above. <br/>\n",
    "5) Produce predictions over the test data.<br/>\n",
    "6) Evaluate the model performance over the test data by tabulating metrics of Mean Absolute Error, Mean Squared Error and Root Mean Squared Error.<br/>\n",
    "7) Normalize the data stored in df_clean. <br/>\n",
    "8) Fit a multiple linear regression model using the normalized data.<br/>\n",
    "9) Extract Feature Importance. That is, report the coefficients (i.e. estimated parameters) of the fit model.<br/>\n",
    "10) Summarize results with a bar chart.<br/>"
   ]
  },
  {
   "cell_type": "code",
   "execution_count": 1,
   "metadata": {
    "scrolled": true
   },
   "outputs": [
    {
     "data": {
      "text/html": [
       "<div>\n",
       "<style scoped>\n",
       "    .dataframe tbody tr th:only-of-type {\n",
       "        vertical-align: middle;\n",
       "    }\n",
       "\n",
       "    .dataframe tbody tr th {\n",
       "        vertical-align: top;\n",
       "    }\n",
       "\n",
       "    .dataframe thead th {\n",
       "        text-align: right;\n",
       "    }\n",
       "</style>\n",
       "<table border=\"1\" class=\"dataframe\">\n",
       "  <thead>\n",
       "    <tr style=\"text-align: right;\">\n",
       "      <th></th>\n",
       "      <th>mpg</th>\n",
       "      <th>cylinders</th>\n",
       "      <th>displacement</th>\n",
       "      <th>horsepower</th>\n",
       "      <th>weight</th>\n",
       "      <th>acceleration</th>\n",
       "      <th>year</th>\n",
       "      <th>origin</th>\n",
       "      <th>name</th>\n",
       "    </tr>\n",
       "  </thead>\n",
       "  <tbody>\n",
       "    <tr>\n",
       "      <th>0</th>\n",
       "      <td>18.0</td>\n",
       "      <td>8.0</td>\n",
       "      <td>307.0</td>\n",
       "      <td>130.0</td>\n",
       "      <td>3504</td>\n",
       "      <td>12.0</td>\n",
       "      <td>70</td>\n",
       "      <td>1.0</td>\n",
       "      <td>chevrolet chevelle malibu</td>\n",
       "    </tr>\n",
       "    <tr>\n",
       "      <th>1</th>\n",
       "      <td>15.0</td>\n",
       "      <td>8.0</td>\n",
       "      <td>350.0</td>\n",
       "      <td>165.0</td>\n",
       "      <td>3693</td>\n",
       "      <td>11.5</td>\n",
       "      <td>70</td>\n",
       "      <td>1.0</td>\n",
       "      <td>buick skylark 320</td>\n",
       "    </tr>\n",
       "    <tr>\n",
       "      <th>2</th>\n",
       "      <td>18.0</td>\n",
       "      <td>8.0</td>\n",
       "      <td>318.0</td>\n",
       "      <td>150.0</td>\n",
       "      <td>3436</td>\n",
       "      <td>11.0</td>\n",
       "      <td>70</td>\n",
       "      <td>1.0</td>\n",
       "      <td>plymouth satellite</td>\n",
       "    </tr>\n",
       "    <tr>\n",
       "      <th>3</th>\n",
       "      <td>16.0</td>\n",
       "      <td>8.0</td>\n",
       "      <td>304.0</td>\n",
       "      <td>150.0</td>\n",
       "      <td>3433</td>\n",
       "      <td>12.0</td>\n",
       "      <td>70</td>\n",
       "      <td>1.0</td>\n",
       "      <td>amc rebel sst</td>\n",
       "    </tr>\n",
       "    <tr>\n",
       "      <th>4</th>\n",
       "      <td>17.0</td>\n",
       "      <td>8.0</td>\n",
       "      <td>302.0</td>\n",
       "      <td>140.0</td>\n",
       "      <td>3449</td>\n",
       "      <td>10.5</td>\n",
       "      <td>70</td>\n",
       "      <td>1.0</td>\n",
       "      <td>ford torino</td>\n",
       "    </tr>\n",
       "  </tbody>\n",
       "</table>\n",
       "</div>"
      ],
      "text/plain": [
       "    mpg  cylinders  displacement  horsepower  weight  acceleration  year  \\\n",
       "0  18.0        8.0         307.0       130.0    3504          12.0    70   \n",
       "1  15.0        8.0         350.0       165.0    3693          11.5    70   \n",
       "2  18.0        8.0         318.0       150.0    3436          11.0    70   \n",
       "3  16.0        8.0         304.0       150.0    3433          12.0    70   \n",
       "4  17.0        8.0         302.0       140.0    3449          10.5    70   \n",
       "\n",
       "   origin                       name  \n",
       "0     1.0  chevrolet chevelle malibu  \n",
       "1     1.0          buick skylark 320  \n",
       "2     1.0         plymouth satellite  \n",
       "3     1.0              amc rebel sst  \n",
       "4     1.0                ford torino  "
      ]
     },
     "execution_count": 1,
     "metadata": {},
     "output_type": "execute_result"
    }
   ],
   "source": [
    "#work on your code here and after.\n",
    "#1) Read the file and create a dataframe and name it \"df\".\n",
    "import pandas as pd\n",
    "df = pd.read_csv(\"auto_mpg_modified.csv\")\n",
    "\n",
    "df.head()"
   ]
  },
  {
   "cell_type": "code",
   "execution_count": 2,
   "metadata": {},
   "outputs": [
    {
     "data": {
      "text/html": [
       "<div>\n",
       "<style scoped>\n",
       "    .dataframe tbody tr th:only-of-type {\n",
       "        vertical-align: middle;\n",
       "    }\n",
       "\n",
       "    .dataframe tbody tr th {\n",
       "        vertical-align: top;\n",
       "    }\n",
       "\n",
       "    .dataframe thead th {\n",
       "        text-align: right;\n",
       "    }\n",
       "</style>\n",
       "<table border=\"1\" class=\"dataframe\">\n",
       "  <thead>\n",
       "    <tr style=\"text-align: right;\">\n",
       "      <th></th>\n",
       "      <th>mpg</th>\n",
       "      <th>cylinders</th>\n",
       "      <th>displacement</th>\n",
       "      <th>horsepower</th>\n",
       "      <th>weight</th>\n",
       "      <th>acceleration</th>\n",
       "      <th>year</th>\n",
       "      <th>origin</th>\n",
       "    </tr>\n",
       "  </thead>\n",
       "  <tbody>\n",
       "    <tr>\n",
       "      <th>0</th>\n",
       "      <td>18.0</td>\n",
       "      <td>8.0</td>\n",
       "      <td>307.0</td>\n",
       "      <td>130.0</td>\n",
       "      <td>3504</td>\n",
       "      <td>12.0</td>\n",
       "      <td>70</td>\n",
       "      <td>1.0</td>\n",
       "    </tr>\n",
       "    <tr>\n",
       "      <th>1</th>\n",
       "      <td>15.0</td>\n",
       "      <td>8.0</td>\n",
       "      <td>350.0</td>\n",
       "      <td>165.0</td>\n",
       "      <td>3693</td>\n",
       "      <td>11.5</td>\n",
       "      <td>70</td>\n",
       "      <td>1.0</td>\n",
       "    </tr>\n",
       "    <tr>\n",
       "      <th>2</th>\n",
       "      <td>18.0</td>\n",
       "      <td>8.0</td>\n",
       "      <td>318.0</td>\n",
       "      <td>150.0</td>\n",
       "      <td>3436</td>\n",
       "      <td>11.0</td>\n",
       "      <td>70</td>\n",
       "      <td>1.0</td>\n",
       "    </tr>\n",
       "    <tr>\n",
       "      <th>3</th>\n",
       "      <td>16.0</td>\n",
       "      <td>8.0</td>\n",
       "      <td>304.0</td>\n",
       "      <td>150.0</td>\n",
       "      <td>3433</td>\n",
       "      <td>12.0</td>\n",
       "      <td>70</td>\n",
       "      <td>1.0</td>\n",
       "    </tr>\n",
       "    <tr>\n",
       "      <th>4</th>\n",
       "      <td>17.0</td>\n",
       "      <td>8.0</td>\n",
       "      <td>302.0</td>\n",
       "      <td>140.0</td>\n",
       "      <td>3449</td>\n",
       "      <td>10.5</td>\n",
       "      <td>70</td>\n",
       "      <td>1.0</td>\n",
       "    </tr>\n",
       "  </tbody>\n",
       "</table>\n",
       "</div>"
      ],
      "text/plain": [
       "    mpg  cylinders  displacement  horsepower  weight  acceleration  year  \\\n",
       "0  18.0        8.0         307.0       130.0    3504          12.0    70   \n",
       "1  15.0        8.0         350.0       165.0    3693          11.5    70   \n",
       "2  18.0        8.0         318.0       150.0    3436          11.0    70   \n",
       "3  16.0        8.0         304.0       150.0    3433          12.0    70   \n",
       "4  17.0        8.0         302.0       140.0    3449          10.5    70   \n",
       "\n",
       "   origin  \n",
       "0     1.0  \n",
       "1     1.0  \n",
       "2     1.0  \n",
       "3     1.0  \n",
       "4     1.0  "
      ]
     },
     "execution_count": 2,
     "metadata": {},
     "output_type": "execute_result"
    }
   ],
   "source": [
    "# 2) Perform the following data preprocessing:\n",
    "# a) Remove uncessary column(s) that cannot be used for training any models. Remove from df. Explain why you choose those column(s).\n",
    "#'name' column should be dropped as it doesnot contribute to training a model. \n",
    "\n",
    "df_clean = df.drop(axis = 1, columns = 'name')\n",
    "df_clean.head()"
   ]
  },
  {
   "cell_type": "code",
   "execution_count": 3,
   "metadata": {},
   "outputs": [
    {
     "data": {
      "text/plain": [
       "mpg             0\n",
       "cylinders       4\n",
       "displacement    0\n",
       "horsepower      6\n",
       "weight          0\n",
       "acceleration    0\n",
       "year            0\n",
       "origin          7\n",
       "dtype: int64"
      ]
     },
     "execution_count": 3,
     "metadata": {},
     "output_type": "execute_result"
    }
   ],
   "source": [
    "df_clean.isnull().sum()"
   ]
  },
  {
   "cell_type": "code",
   "execution_count": 4,
   "metadata": {
    "scrolled": true
   },
   "outputs": [
    {
     "name": "stdout",
     "output_type": "stream",
     "text": [
      "Columns that have missing values:\n",
      "cylinders has a missing value.\n",
      "horsepower has a missing value.\n",
      "origin has a missing value.\n",
      "End\n"
     ]
    }
   ],
   "source": [
    "# b) Determine any missing data point in df. Replace those missing data points with an imputated value.\n",
    "#checking if there are any missing rows for all columns.\n",
    "bool_df = ~df_clean.isna() #True means there is a value. False means the element is na.\n",
    "#checking each row and mark it as false if there is any rows with all columns false\n",
    "\n",
    "ps = bool_df.apply(any, axis = 1) #this is a pandas series of type bool. False if all rows are false.\n",
    "df_clean = df_clean[ps] #grab the ones with True rows only. That is drop rows with all columns NaNs.\n",
    "\n",
    "column_names = df_clean.columns.to_list()\n",
    "\n",
    "print('Columns that have missing values:')\n",
    "for col_name in column_names:\n",
    "    if(any(df_clean[col_name].isna())):\n",
    "        print(col_name+' has a missing value.')\n",
    "print('End')"
   ]
  },
  {
   "cell_type": "code",
   "execution_count": 5,
   "metadata": {},
   "outputs": [
    {
     "name": "stdout",
     "output_type": "stream",
     "text": [
      "horsepower has 94 different values.\n",
      "cylinders has 6 different values.\n",
      "origin has 4 different values.\n"
     ]
    }
   ],
   "source": [
    "unique_horsepower = len(df_clean.horsepower.unique().tolist())\n",
    "unique_cylinders = len(df_clean.cylinders.unique().tolist())\n",
    "unique_origin = len(df_clean.origin.unique().tolist())\n",
    "print('horsepower has '+str(unique_horsepower)+' different values.')\n",
    "print('cylinders has '+str(unique_cylinders)+' different values.')\n",
    "print('origin has '+str(unique_origin)+' different values.')"
   ]
  },
  {
   "cell_type": "code",
   "execution_count": 6,
   "metadata": {
    "scrolled": true
   },
   "outputs": [],
   "source": [
    "#column 'horsepower' has many different values. Filling missing values from this column according to the following ad-hoc imputation technique: \n",
    "#A random value withdrawn from the set (mean - standard deviation, mean + standard deviation).\n",
    "#which ones are NaNs\n",
    "na_horsepower = df_clean.horsepower.isna()\n",
    "#mean and std of all ages\n",
    "mean_horsepower = df_clean.horsepower.mean()\n",
    "std_horsepower = df_clean.horsepower.std()\n",
    "#how many NaNs\n",
    "size_na_horsepower = sum(na_horsepower)\n",
    "\n",
    "\n",
    "#(mean - standard deviation, mean + standard deviation) as many as size\n",
    "import numpy as np\n",
    "#randint() gives an array which can be inserted in Pandas series\n",
    "ps_rand_horsepower_array = np.random.randint(max(0, mean_horsepower - std_horsepower), mean_horsepower + std_horsepower, size = size_na_horsepower)\n",
    "ps_rand_horsepower_array = ps_rand_horsepower_array.astype(float)#currently the column is of type float\n",
    "#Only replace for those NaNs.\n",
    "# ps_horsepower[na_horsepower] = ps_rand_horsepower_array\n",
    "df_clean.loc[na_horsepower, 'horsepower'] = ps_rand_horsepower_array\n"
   ]
  },
  {
   "cell_type": "code",
   "execution_count": 7,
   "metadata": {},
   "outputs": [],
   "source": [
    "#replacing 'cylinders' and 'origin' feature values with the most common values.\n",
    "most_one_cylinders = df['cylinders'].value_counts().idxmax() \n",
    "most_one_origin = df['origin'].value_counts().idxmax() \n",
    "df_clean['cylinders'] = df['cylinders'].fillna(most_one_cylinders)\n",
    "df_clean['origin'] = df['origin'].fillna(most_one_origin)"
   ]
  },
  {
   "cell_type": "code",
   "execution_count": 8,
   "metadata": {
    "scrolled": true
   },
   "outputs": [
    {
     "name": "stdout",
     "output_type": "stream",
     "text": [
      "<class 'pandas.core.frame.DataFrame'>\n",
      "Int64Index: 398 entries, 0 to 397\n",
      "Data columns (total 3 columns):\n",
      " #   Column     Non-Null Count  Dtype\n",
      "---  ------     --------------  -----\n",
      " 0   cylinders  398 non-null    int32\n",
      " 1   year       398 non-null    int32\n",
      " 2   origin     398 non-null    int32\n",
      "dtypes: int32(3)\n",
      "memory usage: 7.8 KB\n",
      "None\n",
      "\n",
      "<class 'pandas.core.frame.DataFrame'>\n",
      "Int64Index: 398 entries, 0 to 397\n",
      "Data columns (total 5 columns):\n",
      " #   Column        Non-Null Count  Dtype  \n",
      "---  ------        --------------  -----  \n",
      " 0   acceleration  398 non-null    float64\n",
      " 1   displacement  398 non-null    float64\n",
      " 2   horsepower    398 non-null    float64\n",
      " 3   weight        398 non-null    float64\n",
      " 4   mpg           398 non-null    float64\n",
      "dtypes: float64(5)\n",
      "memory usage: 18.7 KB\n",
      "None\n"
     ]
    }
   ],
   "source": [
    "#multi-valued discrete ones: \n",
    "discrete_list = ['cylinders', 'year', 'origin']\n",
    "#continuous ones:\n",
    "column_names = set(df_clean.columns.to_list())\n",
    "continuous_list = list(column_names - set(discrete_list))\n",
    "\n",
    "df_clean[discrete_list] = df_clean[discrete_list].astype(int)\n",
    "df_clean[continuous_list] = df_clean[continuous_list].astype(float)\n",
    "\n",
    "print(df_clean[discrete_list].info())\n",
    "print()\n",
    "print(df_clean[continuous_list].info())"
   ]
  },
  {
   "cell_type": "code",
   "execution_count": 9,
   "metadata": {
    "scrolled": true
   },
   "outputs": [
    {
     "data": {
      "text/html": [
       "<div>\n",
       "<style scoped>\n",
       "    .dataframe tbody tr th:only-of-type {\n",
       "        vertical-align: middle;\n",
       "    }\n",
       "\n",
       "    .dataframe tbody tr th {\n",
       "        vertical-align: top;\n",
       "    }\n",
       "\n",
       "    .dataframe thead th {\n",
       "        text-align: right;\n",
       "    }\n",
       "</style>\n",
       "<table border=\"1\" class=\"dataframe\">\n",
       "  <thead>\n",
       "    <tr style=\"text-align: right;\">\n",
       "      <th></th>\n",
       "      <th>mpg</th>\n",
       "    </tr>\n",
       "  </thead>\n",
       "  <tbody>\n",
       "    <tr>\n",
       "      <th>0</th>\n",
       "      <td>18.0</td>\n",
       "    </tr>\n",
       "    <tr>\n",
       "      <th>1</th>\n",
       "      <td>15.0</td>\n",
       "    </tr>\n",
       "    <tr>\n",
       "      <th>2</th>\n",
       "      <td>18.0</td>\n",
       "    </tr>\n",
       "    <tr>\n",
       "      <th>3</th>\n",
       "      <td>16.0</td>\n",
       "    </tr>\n",
       "    <tr>\n",
       "      <th>4</th>\n",
       "      <td>17.0</td>\n",
       "    </tr>\n",
       "  </tbody>\n",
       "</table>\n",
       "</div>"
      ],
      "text/plain": [
       "    mpg\n",
       "0  18.0\n",
       "1  15.0\n",
       "2  18.0\n",
       "3  16.0\n",
       "4  17.0"
      ]
     },
     "execution_count": 9,
     "metadata": {},
     "output_type": "execute_result"
    }
   ],
   "source": [
    "# 3) Prepare the following dataframes.\n",
    "# a) Create a dataframe called \"response\" including only the column \"mpg\".\n",
    "response = df_clean[['mpg']]\n",
    "response.head()"
   ]
  },
  {
   "cell_type": "code",
   "execution_count": 10,
   "metadata": {
    "scrolled": true
   },
   "outputs": [
    {
     "data": {
      "text/html": [
       "<div>\n",
       "<style scoped>\n",
       "    .dataframe tbody tr th:only-of-type {\n",
       "        vertical-align: middle;\n",
       "    }\n",
       "\n",
       "    .dataframe tbody tr th {\n",
       "        vertical-align: top;\n",
       "    }\n",
       "\n",
       "    .dataframe thead th {\n",
       "        text-align: right;\n",
       "    }\n",
       "</style>\n",
       "<table border=\"1\" class=\"dataframe\">\n",
       "  <thead>\n",
       "    <tr style=\"text-align: right;\">\n",
       "      <th></th>\n",
       "      <th>cylinders</th>\n",
       "      <th>displacement</th>\n",
       "      <th>horsepower</th>\n",
       "      <th>weight</th>\n",
       "      <th>acceleration</th>\n",
       "      <th>year</th>\n",
       "      <th>origin</th>\n",
       "    </tr>\n",
       "  </thead>\n",
       "  <tbody>\n",
       "    <tr>\n",
       "      <th>0</th>\n",
       "      <td>8</td>\n",
       "      <td>307.0</td>\n",
       "      <td>130.0</td>\n",
       "      <td>3504.0</td>\n",
       "      <td>12.0</td>\n",
       "      <td>70</td>\n",
       "      <td>1</td>\n",
       "    </tr>\n",
       "    <tr>\n",
       "      <th>1</th>\n",
       "      <td>8</td>\n",
       "      <td>350.0</td>\n",
       "      <td>165.0</td>\n",
       "      <td>3693.0</td>\n",
       "      <td>11.5</td>\n",
       "      <td>70</td>\n",
       "      <td>1</td>\n",
       "    </tr>\n",
       "    <tr>\n",
       "      <th>2</th>\n",
       "      <td>8</td>\n",
       "      <td>318.0</td>\n",
       "      <td>150.0</td>\n",
       "      <td>3436.0</td>\n",
       "      <td>11.0</td>\n",
       "      <td>70</td>\n",
       "      <td>1</td>\n",
       "    </tr>\n",
       "    <tr>\n",
       "      <th>3</th>\n",
       "      <td>8</td>\n",
       "      <td>304.0</td>\n",
       "      <td>150.0</td>\n",
       "      <td>3433.0</td>\n",
       "      <td>12.0</td>\n",
       "      <td>70</td>\n",
       "      <td>1</td>\n",
       "    </tr>\n",
       "    <tr>\n",
       "      <th>4</th>\n",
       "      <td>8</td>\n",
       "      <td>302.0</td>\n",
       "      <td>140.0</td>\n",
       "      <td>3449.0</td>\n",
       "      <td>10.5</td>\n",
       "      <td>70</td>\n",
       "      <td>1</td>\n",
       "    </tr>\n",
       "  </tbody>\n",
       "</table>\n",
       "</div>"
      ],
      "text/plain": [
       "   cylinders  displacement  horsepower  weight  acceleration  year  origin\n",
       "0          8         307.0       130.0  3504.0          12.0    70       1\n",
       "1          8         350.0       165.0  3693.0          11.5    70       1\n",
       "2          8         318.0       150.0  3436.0          11.0    70       1\n",
       "3          8         304.0       150.0  3433.0          12.0    70       1\n",
       "4          8         302.0       140.0  3449.0          10.5    70       1"
      ]
     },
     "execution_count": 10,
     "metadata": {},
     "output_type": "execute_result"
    }
   ],
   "source": [
    "# b) Create a dataframe called \"features\" with the remaining columns.\n",
    "features = df_clean.iloc[:,1:]\n",
    "features.head()"
   ]
  },
  {
   "cell_type": "code",
   "execution_count": 11,
   "metadata": {},
   "outputs": [
    {
     "name": "stdout",
     "output_type": "stream",
     "text": [
      "Number of total rows in complete features dataframe:  398\n",
      "Number of total rows in features_train dataframe:  318\n",
      "Number of total rows in features_test dataframe:  80\n",
      "Number of total rows in complete response dataframe:  398\n",
      "Number of total rows in response_train dataframe:  318\n",
      "Number of total rows in response_test dataframe:  80\n"
     ]
    }
   ],
   "source": [
    "# c) Prepare a dataframe named \"features_train\": random 80% rows of the dataframe \"features\"\n",
    "# d) Prepare a dataframe named \"features_test\": random 20% rows of the dataframe \"features\"\n",
    "# e) Prepare a dataframe named \"response_train\": random 80% rows of the dataframe \"response\"\n",
    "# f) Prepare a dataframe named \"response_test\": random 20% rows of the dataframe \"response\"\n",
    "from sklearn.model_selection import train_test_split\n",
    "my_result_list = train_test_split(features, response, test_size=0.2, random_state=0)\n",
    "\n",
    "features_train = my_result_list[0]\n",
    "features_test = my_result_list[1]\n",
    "response_train = my_result_list[2]\n",
    "response_test = my_result_list[3]\n",
    "\n",
    "print(\"Number of total rows in complete features dataframe: \", len(features))\n",
    "print(\"Number of total rows in features_train dataframe: \", len(features_train))\n",
    "print(\"Number of total rows in features_test dataframe: \", len(features_test))\n",
    "print(\"Number of total rows in complete response dataframe: \", len(response))\n",
    "print(\"Number of total rows in response_train dataframe: \", len(response_train))\n",
    "print(\"Number of total rows in response_test dataframe: \", len(response_test))"
   ]
  },
  {
   "cell_type": "code",
   "execution_count": 12,
   "metadata": {},
   "outputs": [
    {
     "data": {
      "text/plain": [
       "LinearRegression(copy_X=True, fit_intercept=True, n_jobs=None, normalize=False)"
      ]
     },
     "execution_count": 12,
     "metadata": {},
     "output_type": "execute_result"
    }
   ],
   "source": [
    "#4) Create a multiple linear regressoin model from scikit learn package. Train your model using the train data that you created above.\n",
    "from sklearn.linear_model import LinearRegression\n",
    "my_linear_regression = LinearRegression()\n",
    "my_linear_regression.fit(features_train, response_train) #first input is features, second input is response"
   ]
  },
  {
   "cell_type": "code",
   "execution_count": 13,
   "metadata": {},
   "outputs": [],
   "source": [
    "#5) Produce predictions over the test data.\n",
    "response_pred = my_linear_regression.predict(features_test)"
   ]
  },
  {
   "cell_type": "code",
   "execution_count": 14,
   "metadata": {
    "scrolled": true
   },
   "outputs": [
    {
     "name": "stdout",
     "output_type": "stream",
     "text": [
      "Mean Absolute Error: 2.7105097067829886\n",
      "Mean Squared Error: 11.563350950592172\n",
      "Root Mean Squared Error: 3.400492751145365\n"
     ]
    }
   ],
   "source": [
    "#6) Evaluate the model performance over the test data by tabulating metrics of Mean Absolute Error, Mean Squared Error and Root Mean Squared Error.\n",
    "import numpy as np\n",
    "from sklearn import metrics\n",
    "print('Mean Absolute Error:', metrics.mean_absolute_error(response_test, response_pred))\n",
    "print('Mean Squared Error:', metrics.mean_squared_error(response_test, response_pred))\n",
    "print('Root Mean Squared Error:', np.sqrt(metrics.mean_squared_error(response_test, response_pred)))"
   ]
  },
  {
   "cell_type": "code",
   "execution_count": 15,
   "metadata": {
    "scrolled": true
   },
   "outputs": [
    {
     "data": {
      "text/html": [
       "<div>\n",
       "<style scoped>\n",
       "    .dataframe tbody tr th:only-of-type {\n",
       "        vertical-align: middle;\n",
       "    }\n",
       "\n",
       "    .dataframe tbody tr th {\n",
       "        vertical-align: top;\n",
       "    }\n",
       "\n",
       "    .dataframe thead th {\n",
       "        text-align: right;\n",
       "    }\n",
       "</style>\n",
       "<table border=\"1\" class=\"dataframe\">\n",
       "  <thead>\n",
       "    <tr style=\"text-align: right;\">\n",
       "      <th></th>\n",
       "      <th>mpg</th>\n",
       "      <th>cylinders</th>\n",
       "      <th>displacement</th>\n",
       "      <th>horsepower</th>\n",
       "      <th>weight</th>\n",
       "      <th>acceleration</th>\n",
       "      <th>year</th>\n",
       "      <th>origin</th>\n",
       "    </tr>\n",
       "  </thead>\n",
       "  <tbody>\n",
       "    <tr>\n",
       "      <th>0</th>\n",
       "      <td>0.239362</td>\n",
       "      <td>1.0</td>\n",
       "      <td>0.617571</td>\n",
       "      <td>0.456522</td>\n",
       "      <td>0.536150</td>\n",
       "      <td>0.238095</td>\n",
       "      <td>0.0</td>\n",
       "      <td>0.0</td>\n",
       "    </tr>\n",
       "    <tr>\n",
       "      <th>1</th>\n",
       "      <td>0.159574</td>\n",
       "      <td>1.0</td>\n",
       "      <td>0.728682</td>\n",
       "      <td>0.646739</td>\n",
       "      <td>0.589736</td>\n",
       "      <td>0.208333</td>\n",
       "      <td>0.0</td>\n",
       "      <td>0.0</td>\n",
       "    </tr>\n",
       "    <tr>\n",
       "      <th>2</th>\n",
       "      <td>0.239362</td>\n",
       "      <td>1.0</td>\n",
       "      <td>0.645995</td>\n",
       "      <td>0.565217</td>\n",
       "      <td>0.516870</td>\n",
       "      <td>0.178571</td>\n",
       "      <td>0.0</td>\n",
       "      <td>0.0</td>\n",
       "    </tr>\n",
       "    <tr>\n",
       "      <th>3</th>\n",
       "      <td>0.186170</td>\n",
       "      <td>1.0</td>\n",
       "      <td>0.609819</td>\n",
       "      <td>0.565217</td>\n",
       "      <td>0.516019</td>\n",
       "      <td>0.238095</td>\n",
       "      <td>0.0</td>\n",
       "      <td>0.0</td>\n",
       "    </tr>\n",
       "    <tr>\n",
       "      <th>4</th>\n",
       "      <td>0.212766</td>\n",
       "      <td>1.0</td>\n",
       "      <td>0.604651</td>\n",
       "      <td>0.510870</td>\n",
       "      <td>0.520556</td>\n",
       "      <td>0.148810</td>\n",
       "      <td>0.0</td>\n",
       "      <td>0.0</td>\n",
       "    </tr>\n",
       "  </tbody>\n",
       "</table>\n",
       "</div>"
      ],
      "text/plain": [
       "        mpg  cylinders  displacement  horsepower    weight  acceleration  \\\n",
       "0  0.239362        1.0      0.617571    0.456522  0.536150      0.238095   \n",
       "1  0.159574        1.0      0.728682    0.646739  0.589736      0.208333   \n",
       "2  0.239362        1.0      0.645995    0.565217  0.516870      0.178571   \n",
       "3  0.186170        1.0      0.609819    0.565217  0.516019      0.238095   \n",
       "4  0.212766        1.0      0.604651    0.510870  0.520556      0.148810   \n",
       "\n",
       "   year  origin  \n",
       "0   0.0     0.0  \n",
       "1   0.0     0.0  \n",
       "2   0.0     0.0  \n",
       "3   0.0     0.0  \n",
       "4   0.0     0.0  "
      ]
     },
     "execution_count": 15,
     "metadata": {},
     "output_type": "execute_result"
    }
   ],
   "source": [
    "#7) Normalize the data stored in df_clean.\n",
    "from sklearn.preprocessing import MinMaxScaler\n",
    "scaler = MinMaxScaler() \n",
    "data_normalized = scaler.fit_transform(df_clean)\n",
    "df_normalized = pd.DataFrame(data_normalized, columns = df_clean.columns.to_list())\n",
    "df_normalized.head()"
   ]
  },
  {
   "cell_type": "code",
   "execution_count": 16,
   "metadata": {},
   "outputs": [
    {
     "data": {
      "text/plain": [
       "LinearRegression(copy_X=True, fit_intercept=True, n_jobs=None, normalize=False)"
      ]
     },
     "execution_count": 16,
     "metadata": {},
     "output_type": "execute_result"
    }
   ],
   "source": [
    "#8) Fit a multiple linear regression model using the normalized data.\n",
    "from sklearn.linear_model import LinearRegression\n",
    "my_linear_regression = LinearRegression()\n",
    "features = df_normalized.iloc[:,1:] #All columns after the first column in dataframe account for features\n",
    "response = df_normalized[['mpg']]\n",
    "my_linear_regression.fit(features, response) #first input is features, second input is response"
   ]
  },
  {
   "cell_type": "code",
   "execution_count": 17,
   "metadata": {
    "scrolled": true
   },
   "outputs": [
    {
     "name": "stdout",
     "output_type": "stream",
     "text": [
      "cylinders: -0.05562\n",
      "displacement: 0.18718\n",
      "horsepower: -0.03948\n",
      "weight: -0.63958\n",
      "acceleration: 0.05447\n",
      "year: 0.24275\n",
      "origin: 0.07133\n"
     ]
    }
   ],
   "source": [
    "# 9) Extract Feature Importance. That is, report the coefficients (i.e. estimated parameters) of the fit model.\n",
    "importance = my_linear_regression.coef_[0]\n",
    "feature_names = df_normalized.columns.to_list()\n",
    "feature_names.remove('mpg')\n",
    "# summarize feature importance\n",
    "for i, score in enumerate(importance):\n",
    "    print('%s: %.5f' % (feature_names[i], score))"
   ]
  },
  {
   "cell_type": "code",
   "execution_count": 18,
   "metadata": {},
   "outputs": [
    {
     "data": {
      "image/png": "[encoded data removed]",
      "text/plain": [
       "<Figure size 720x360 with 1 Axes>"
      ]
     },
     "metadata": {
      "needs_background": "light"
     },
     "output_type": "display_data"
    }
   ],
   "source": [
    "# 10) Summarize results with a bar chart.\n",
    "from matplotlib import pyplot\n",
    "pyplot.figure(figsize=(10, 5))\n",
    "# plot feature importance\n",
    "pyplot.bar(x = list(range(len(importance))), height = importance, tick_label = feature_names)\n",
    "pyplot.title('Auto Mpg Feature Importance')\n",
    "pyplot.xlabel('Features')\n",
    "pyplot.ylabel('Importance Score')\n",
    "pyplot.show()"
   ]
  },
  {
   "cell_type": "code",
   "execution_count": 19,
   "metadata": {},
   "outputs": [],
   "source": [
    "#11) Analyze the results from the bar chart. Drop one or two least important features from df_clean.\n",
    "#Drop 'cylinders' and 'acceleration'\n",
    "df_clean.drop(axis=1, columns = ['cylinders', 'acceleration'], inplace = True)"
   ]
  },
  {
   "cell_type": "code",
   "execution_count": 20,
   "metadata": {
    "scrolled": true
   },
   "outputs": [
    {
     "data": {
      "text/html": [
       "<div>\n",
       "<style scoped>\n",
       "    .dataframe tbody tr th:only-of-type {\n",
       "        vertical-align: middle;\n",
       "    }\n",
       "\n",
       "    .dataframe tbody tr th {\n",
       "        vertical-align: top;\n",
       "    }\n",
       "\n",
       "    .dataframe thead th {\n",
       "        text-align: right;\n",
       "    }\n",
       "</style>\n",
       "<table border=\"1\" class=\"dataframe\">\n",
       "  <thead>\n",
       "    <tr style=\"text-align: right;\">\n",
       "      <th></th>\n",
       "      <th>mpg</th>\n",
       "      <th>displacement</th>\n",
       "      <th>horsepower</th>\n",
       "      <th>weight</th>\n",
       "      <th>year</th>\n",
       "      <th>origin</th>\n",
       "    </tr>\n",
       "  </thead>\n",
       "  <tbody>\n",
       "    <tr>\n",
       "      <th>0</th>\n",
       "      <td>18.0</td>\n",
       "      <td>307.0</td>\n",
       "      <td>130.0</td>\n",
       "      <td>3504.0</td>\n",
       "      <td>70</td>\n",
       "      <td>1</td>\n",
       "    </tr>\n",
       "    <tr>\n",
       "      <th>1</th>\n",
       "      <td>15.0</td>\n",
       "      <td>350.0</td>\n",
       "      <td>165.0</td>\n",
       "      <td>3693.0</td>\n",
       "      <td>70</td>\n",
       "      <td>1</td>\n",
       "    </tr>\n",
       "    <tr>\n",
       "      <th>2</th>\n",
       "      <td>18.0</td>\n",
       "      <td>318.0</td>\n",
       "      <td>150.0</td>\n",
       "      <td>3436.0</td>\n",
       "      <td>70</td>\n",
       "      <td>1</td>\n",
       "    </tr>\n",
       "    <tr>\n",
       "      <th>3</th>\n",
       "      <td>16.0</td>\n",
       "      <td>304.0</td>\n",
       "      <td>150.0</td>\n",
       "      <td>3433.0</td>\n",
       "      <td>70</td>\n",
       "      <td>1</td>\n",
       "    </tr>\n",
       "    <tr>\n",
       "      <th>4</th>\n",
       "      <td>17.0</td>\n",
       "      <td>302.0</td>\n",
       "      <td>140.0</td>\n",
       "      <td>3449.0</td>\n",
       "      <td>70</td>\n",
       "      <td>1</td>\n",
       "    </tr>\n",
       "  </tbody>\n",
       "</table>\n",
       "</div>"
      ],
      "text/plain": [
       "    mpg  displacement  horsepower  weight  year  origin\n",
       "0  18.0         307.0       130.0  3504.0    70       1\n",
       "1  15.0         350.0       165.0  3693.0    70       1\n",
       "2  18.0         318.0       150.0  3436.0    70       1\n",
       "3  16.0         304.0       150.0  3433.0    70       1\n",
       "4  17.0         302.0       140.0  3449.0    70       1"
      ]
     },
     "execution_count": 20,
     "metadata": {},
     "output_type": "execute_result"
    }
   ],
   "source": [
    "df_clean.head()"
   ]
  },
  {
   "cell_type": "code",
   "execution_count": 21,
   "metadata": {},
   "outputs": [
    {
     "name": "stdout",
     "output_type": "stream",
     "text": [
      "Mean Absolute Error: 2.6614071776530395\n",
      "Mean Squared Error: 11.263615357846534\n",
      "Root Mean Squared Error: 3.3561310102328448\n"
     ]
    }
   ],
   "source": [
    "# 12) Repeat Questions 3 - 6 and report the updated metrics of Mean Absolute Error, Mean Squared Error and Root Mean Squared Error. Compare the updated metric results against the previous ones.\n",
    "    # 3) Prepare the following dataframes.\n",
    "    # a) Create a dataframe called \"response\" including only the column \"mpg\".\n",
    "    # b) Create a dataframe called \"features\" with the remaining columns.\n",
    "    # c) Prepare a dataframe named \"features_train\": random 80% rows of the dataframe \"features\"\n",
    "    # d) Prepare a dataframe named \"features_test\": random 20% rows of the dataframe \"features\"\n",
    "    # e) Prepare a dataframe named \"response_train\": random 80% rows of the dataframe \"response\"\n",
    "    # f) Prepare a dataframe named \"response_test\": random 20% rows of the dataframe \"response\"\n",
    "    # 4) Create a multiple linear regressoin model from scikit learn package. Train your model using the train data that you created above.\n",
    "    # 5) Produce predictions over the test data.\n",
    "    # 6) Evaluate the model performance over the test data by tabulating metrics of Mean Absolute Error, Mean Squared Error and Root Mean Squared Error.\n",
    "    \n",
    "# 3) Prepare the following dataframes.\n",
    "# a) Create a dataframe called \"response\" including only the column \"mpg\".\n",
    "response = df_clean[['mpg']]\n",
    "response.head()\n",
    "\n",
    "# b) Create a dataframe called \"features\" with the remaining columns.\n",
    "features = df_clean.iloc[:,1:]\n",
    "\n",
    "# c) Prepare a dataframe named \"features_train\": random 80% rows of the dataframe \"features\"\n",
    "# d) Prepare a dataframe named \"features_test\": random 20% rows of the dataframe \"features\"\n",
    "# e) Prepare a dataframe named \"response_train\": random 80% rows of the dataframe \"response\"\n",
    "# f) Prepare a dataframe named \"response_test\": random 20% rows of the dataframe \"response\"\n",
    "from sklearn.model_selection import train_test_split\n",
    "my_result_list = train_test_split(features, response, test_size=0.2, random_state=0)\n",
    "\n",
    "features_train = my_result_list[0]\n",
    "features_test = my_result_list[1]\n",
    "response_train = my_result_list[2]\n",
    "response_test = my_result_list[3]\n",
    "\n",
    "#4) Create a multiple linear regressoin model from scikit learn package. Train your model using the train data that you created above.\n",
    "from sklearn.linear_model import LinearRegression\n",
    "my_linear_regression = LinearRegression()\n",
    "my_linear_regression.fit(features_train, response_train) #first input is features, second input is response\n",
    "\n",
    "#5) Produce predictions over the test data.\n",
    "response_pred = my_linear_regression.predict(features_test)\n",
    "\n",
    "#6) Evaluate the model performance over the test data by tabulating metrics of Mean Absolute Error, Mean Squared Error and Root Mean Squared Error.\n",
    "import numpy as np\n",
    "from sklearn import metrics\n",
    "print('Mean Absolute Error:', metrics.mean_absolute_error(response_test, response_pred))\n",
    "print('Mean Squared Error:', metrics.mean_squared_error(response_test, response_pred))\n",
    "print('Root Mean Squared Error:', np.sqrt(metrics.mean_squared_error(response_test, response_pred)))\n",
    "\n"
   ]
  },
  {
   "cell_type": "code",
   "execution_count": null,
   "metadata": {},
   "outputs": [],
   "source": []
  }
 ],
 "metadata": {
  "kernelspec": {
   "display_name": "Python 3",
   "language": "python",
   "name": "python3"
  },
  "language_info": {
   "codemirror_mode": {
    "name": "ipython",
    "version": 3
   },
   "file_extension": ".py",
   "mimetype": "text/x-python",
   "name": "python",
   "nbconvert_exporter": "python",
   "pygments_lexer": "ipython3",
   "version": "3.7.6"
  }
 },
 "nbformat": 4,
 "nbformat_minor": 4
}
