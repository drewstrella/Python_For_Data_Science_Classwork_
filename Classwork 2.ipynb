{
 "cells": [
  {
   "cell_type": "markdown",
   "metadata": {},
   "source": [
    "# <center> <h1>Assignment 2</h1> </center>\n",
    "<center> <h1>EIN 4933/6935 Python for Data Science Summer 2021</h1> </center>"
   ]
  },
  {
   "cell_type": "raw",
   "metadata": {},
   "source": []
  },
  {
   "cell_type": "markdown",
   "metadata": {},
   "source": [
    "## Questions:\n",
    "*Return a Jupyter Notebook and a zipped folder for all files that you create. Do not include the database file.*<br/>\n",
    "1) Click the link below and download the SQLite database named \"chinook.db\".<br/>\n",
    "Link: https://sites.google.com/site/yasinunlu/home/research/new1/chinook.db<br/>\n",
    "2) You can browse the given database file using an online database browser. Here is an example link: https://sqliteonline.com/. How many tables are there in the database?<br/>\n",
    "\n",
    "There are 13 tables in the database.\n",
    "\n",
    "\n",
    "3) Establish a connection using Python code below.<br/>\n",
    "4) Choose and read 3 different tables in the database as Pandas dataframe. In the code below, you see a table named \"tracks\" stored into Pandas dataframe named \"df_tracks\".<br/>\n",
    "5) Store each dataframe file as a CSV file in .csv and .txt extensions and a TSV file in .txt extension. For example, df_tracks dataframe should be stored under a name \"tracks_CSV.csv\", \"tracks_CSV.txt\" and \"tracks_TSV.txt\".<br/>\n",
    "6) Store each dataframe file as a .json file by using `to_json()` in Pandas. For example, df_tracks dataframe should be stored under a name \"tracks.json\". Please note these files must be in JSON files.<br/>\n",
    "7) Read each .json file as a single string by using `read()` function in Python.<br/>\n",
    "8) You must notice this is not in a nice format (i.e. no indentation). Create a JSON object by using `json.loads()`.<br/> \n",
    "9) Convert the JSON object into an indented format by using `json.dumps()` function.<br/>\n",
    "10) Write the formatted data into a file with .json extension. Use `write()` function. For example, the JSON formatted data of df_tracks dataframe should be stored under a name \"tracks_formatted.json\". \n",
    "## Bonus Questions:\n",
    "*Return only a Jupyter Notebook.*<br/>\n",
    "11) Report the names and the total number of tables in the database by using Python code.<br/>\n",
    "12) Create  _CSV.csv, _CSV.txt, _TSV.txt and formatted .json files in an automated fashion using Python code.<br/>"
   ]
  },
  {
   "cell_type": "code",
   "execution_count": 1,
   "metadata": {
    "scrolled": true
   },
   "outputs": [
    {
     "name": "stdout",
     "output_type": "stream",
     "text": [
      "C:\\Users\\drews\\OneDrive\\USF\\Grad School\\Python\\Assignment 5\n"
     ]
    }
   ],
   "source": [
    "import pandas as pd\n",
    "import sqlite3\n",
    "%cd \"C:\\\\Users\\\\drews\\\\OneDrive\\\\USF\\\\Grad School\\\\Python\\\\Assignment 5\\\\\"\n",
    "conn = sqlite3.connect(\"C:\\\\Users\\\\drews\\\\OneDrive\\\\USF\\\\Grad School\\\\Python\\\\Assignment 5\\\\chinook.db\")\n",
    "df_tracks = pd.read_sql_query(\"select * from tracks;\", conn) \n",
    "df_albums = pd.read_sql_query(\"select * from albums;\", conn) \n",
    "df_artists = pd.read_sql_query(\"select * from artists;\", conn) \n",
    "df_playlists = pd.read_sql_query(\"select * from playlists;\", conn) \n",
    "# df_playlists.head()\n",
    "# type(conn)"
   ]
  },
  {
   "cell_type": "code",
   "execution_count": 2,
   "metadata": {},
   "outputs": [
    {
     "name": "stdout",
     "output_type": "stream",
     "text": [
      "C:\\Users\\drews\\OneDrive\\USF\\Grad School\\Python\\Assignment 5\n"
     ]
    }
   ],
   "source": [
    "%cd \"C:\\\\Users\\\\drews\\\\OneDrive\\\\USF\\\\Grad School\\\\Python\\\\Assignment 5\\\\\"\n",
    "df_tracks.to_csv(\"tracks_CSV.csv\", index=False)\n",
    "df_tracks.to_csv(\"tracks_CVS.txt\", index=False)\n",
    "df_tracks.to_csv(\"tracks_TSV.txt\", sep=\"\\t\", index=False)\n",
    "df_tracks.to_json(\"tracks.json\")\n",
    "\n",
    "df_albums.to_csv(\"albums_CSV.csv\", index=False)\n",
    "df_albums.to_csv(\"albums_CVS.txt\", index=False)\n",
    "df_albums.to_csv(\"albums_TSV.txt\", sep=\"\\t\", index=False)\n",
    "df_albums.to_json(\"albums.json\")\n",
    "\n",
    "df_artists.to_csv(\"artists_CSV.csv\", index=False)\n",
    "df_artists.to_csv(\"artists_CVS.txt\", index=False)\n",
    "df_artists.to_csv(\"artists_TSV.txt\", sep=\"\\t\", index=False)\n",
    "df_artists.to_json(\"artists.json\")\n",
    "\n",
    "df_playlists.to_csv(\"playlists_CSV.csv\", index=False)\n",
    "df_playlists.to_csv(\"playlists_CVS.txt\", index=False)\n",
    "df_playlists.to_csv(\"playlists_TSV.txt\", sep=\"\\t\", index=False)\n",
    "df_playlists.to_json(\"playlists.json\")\n"
   ]
  },
  {
   "cell_type": "code",
   "execution_count": 3,
   "metadata": {},
   "outputs": [],
   "source": [
    "tracks_file = open(\"tracks.json\", \"r\")\n",
    "tracks=tracks_file.read()\n",
    "tracks_file.close()\n",
    "# tracks"
   ]
  },
  {
   "cell_type": "code",
   "execution_count": 4,
   "metadata": {},
   "outputs": [],
   "source": [
    "albums_file = open(\"albums.json\", \"r\")\n",
    "albums=albums_file.read()\n",
    "albums_file.close()\n",
    "# albums"
   ]
  },
  {
   "cell_type": "code",
   "execution_count": 5,
   "metadata": {},
   "outputs": [],
   "source": [
    "artists_file = open(\"artists.json\", \"r\")\n",
    "artists=artists_file.read()\n",
    "artists_file.close()\n",
    "# artists"
   ]
  },
  {
   "cell_type": "code",
   "execution_count": 6,
   "metadata": {},
   "outputs": [],
   "source": [
    "playlists_file = open(\"playlists.json\",\"r\")\n",
    "playlists=playlists_file.read()\n",
    "playlists_file.close()\n",
    "# playlists"
   ]
  },
  {
   "cell_type": "code",
   "execution_count": 7,
   "metadata": {},
   "outputs": [],
   "source": [
    "import json as json\n",
    "json_tracks = json.loads(tracks)\n",
    "# print(json_tracks)\n",
    "\n",
    "json_albums = json.loads(albums)\n",
    "# print(json_albums)\n",
    "\n",
    "json_artists=json.loads(artists)\n",
    "# print(json_artists)\n",
    "\n",
    "json_playlists=json.loads(playlists)\n",
    "# print(json_playlists)"
   ]
  },
  {
   "cell_type": "code",
   "execution_count": 8,
   "metadata": {},
   "outputs": [],
   "source": [
    "json_formated_tracks = json.dumps(json_tracks, indent = 2)\n",
    "# print(json_formated_tracks)\n",
    "\n",
    "json_formated_albums = json.dumps(json_albums, indent = 2)\n",
    "# print(json_formated_albums)\n",
    "\n",
    "json_formated_artists = json.dumps(json_artists, indent =2)\n",
    "# print(json_formated_artists)\n",
    "\n",
    "json_formated_playlists = json.dumps(json_playlists, indent=2)\n",
    "# print(json_formated_playlists)"
   ]
  },
  {
   "cell_type": "code",
   "execution_count": 9,
   "metadata": {},
   "outputs": [],
   "source": [
    "tracks_file = open(\"tracks_.json\",\"w\")\n",
    "tracks_file.write(json_formated_tracks)\n",
    "tracks_file.close()\n",
    "\n",
    "albums_file = open(\"albums_.json\",\"w\")\n",
    "albums_file.write(json_formated_albums)\n",
    "albums_file.close()\n",
    "\n",
    "artists_file = open(\"artists_.json\",\"w\")\n",
    "artists_file.write(json_formated_artists)\n",
    "artists_file.close()\n",
    "\n",
    "playlists_file = open(\"playlists_.json\",\"w\")\n",
    "playlists_file.write(json_formated_playlists)\n",
    "playlists_file.close()"
   ]
  }
 ],
 "metadata": {
  "kernelspec": {
   "display_name": "Python 3",
   "language": "python",
   "name": "python3"
  },
  "language_info": {
   "codemirror_mode": {
    "name": "ipython",
    "version": 3
   },
   "file_extension": ".py",
   "mimetype": "text/x-python",
   "name": "python",
   "nbconvert_exporter": "python",
   "pygments_lexer": "ipython3",
   "version": "3.7.6"
  }
 },
 "nbformat": 4,
 "nbformat_minor": 4
}
